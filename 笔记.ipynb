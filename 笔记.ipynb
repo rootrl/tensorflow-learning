{
 "cells": [
  {
   "cell_type": "markdown",
   "id": "7ee60b8c",
   "metadata": {},
   "source": [
    "# 激励函数\n",
    "\n",
    "\n",
    "非线性方程\n",
    "\n",
    "线性方程\n",
    "    y = Wx\n",
    "    \n",
    "激励函数\n",
    "    y = AF(Wx)\n",
    "\n",
    "\n",
    "    AF()  = {relu, sigmoid, tanh}\n",
    "\n",
    "激励函数必须可微分 （传递回去）\n",
    "\n",
    "神经层少层 随便设置\n",
    "多层 需要考虑\n",
    "\n",
    "默认所选：\n",
    "    CNN relu\n",
    "    RNN relu or tanh\n",
    "\n"
   ]
  },
  {
   "cell_type": "markdown",
   "id": "2d570bcc",
   "metadata": {},
   "source": [
    "# 加速神经网络训练\n",
    "\n",
    "1, SGD (stochastic Gradient Descent)\n",
    "\n",
    "2, Momentum W += Learning rate * dx\n",
    "\n",
    "m = b1m - Learining rate dx W += m\n",
    "\n",
    "3, AdaGrad v += dx^2 W += Learning rate * dx / 根号v\n",
    "\n",
    "4,RMSProp momentum + AdaGrad (部分)\n",
    "\n",
    "5, Adam （常用） momentum + AdaGrad\n",
    "\n"
   ]
  },
  {
   "cell_type": "code",
   "execution_count": null,
   "id": "c9b35e59",
   "metadata": {
    "collapsed": true
   },
   "outputs": [],
   "source": [
    "# 优化器\n",
    "class Adadelta: Optimizer that implements the Adadelta algorithm.\n",
    "\n",
    "class Adagrad: Optimizer that implements the Adagrad algorithm.\n",
    "\n",
    "class Adam: Optimizer that implements the Adam algorithm.\n",
    "\n",
    "class Adamax: Optimizer that implements the Adamax algorithm.\n",
    "\n",
    "class Ftrl: Optimizer that implements the FTRL algorithm.\n",
    "\n",
    "class Nadam: Optimizer that implements the NAdam algorithm.\n",
    "\n",
    "class Optimizer: Base class for Keras optimizers.\n",
    "\n",
    "class RMSprop: Optimizer that implements the RMSprop algorithm.\n",
    "\n",
    "class SGD: Gradient descent (with momentum) optimizer."
   ]
  },
  {
   "cell_type": "code",
   "execution_count": null,
   "id": "e318a752",
   "metadata": {
    "collapsed": true
   },
   "outputs": [],
   "source": [
    "# 可视化神经网络\n"
   ]
  }
 ],
 "metadata": {
  "kernelspec": {
   "display_name": "Python 3",
   "language": "python",
   "name": "python3"
  },
  "language_info": {
   "codemirror_mode": {
    "name": "ipython",
    "version": 3
   },
   "file_extension": ".py",
   "mimetype": "text/x-python",
   "name": "python",
   "nbconvert_exporter": "python",
   "pygments_lexer": "ipython3",
   "version": "3.5.0"
  }
 },
 "nbformat": 4,
 "nbformat_minor": 5
}
