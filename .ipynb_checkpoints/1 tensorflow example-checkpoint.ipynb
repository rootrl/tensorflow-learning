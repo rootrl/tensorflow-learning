{
 "cells": [
  {
   "cell_type": "code",
   "execution_count": 3,
   "id": "f1835aad",
   "metadata": {},
   "outputs": [
    {
     "name": "stdout",
     "output_type": "stream",
     "text": [
      "WARNING:tensorflow:From D:\\anaconda\\envs\\cement-project\\lib\\site-packages\\tensorflow\\python\\util\\tf_should_use.py:170: initialize_all_variables (from tensorflow.python.ops.variables) is deprecated and will be removed after 2017-03-02.\n",
      "Instructions for updating:\n",
      "Use `tf.global_variables_initializer` instead.\n",
      "0 [ 0.35539705] [ 0.22197272]\n",
      "20 [ 0.16222239] [ 0.26755509]\n",
      "40 [ 0.11663147] [ 0.29132777]\n",
      "60 [ 0.10444545] [ 0.29768202]\n",
      "80 [ 0.10118824] [ 0.29938042]\n",
      "100 [ 0.10031761] [ 0.2998344]\n",
      "120 [ 0.1000849] [ 0.29995576]\n",
      "140 [ 0.1000227] [ 0.29998818]\n",
      "160 [ 0.10000606] [ 0.29999685]\n",
      "180 [ 0.10000161] [ 0.29999918]\n",
      "200 [ 0.10000045] [ 0.29999977]\n"
     ]
    }
   ],
   "source": [
    "import tensorflow as tf\n",
    "import numpy as np\n",
    "\n",
    "\n",
    "# create data\n",
    "\n",
    "x_data = np.random.rand(100).astype(np.float32)\n",
    "\n",
    "\n",
    "y_data = x_data * 0.1 + 0.3\n",
    "\n",
    "# create tensorflow stucture start\n",
    "\n",
    "Weights = tf.Variable(tf.random_uniform([1], -1.0, 1.0))\n",
    "\n",
    "biases = tf.Variable(tf.zeros([1]))\n",
    "\n",
    "# create tensorflow stucture end\n",
    "\n",
    "y = Weights * x_data + biases\n",
    "\n",
    "loss = tf.reduce_mean(tf.square(y - y_data))\n",
    "\n",
    "optimizer = tf.train.GradientDescentOptimizer(0.5)\n",
    "train = optimizer.minimize(loss)\n",
    "\n",
    "init = tf.initialize_all_variables()\n",
    "\n",
    "sess = tf.Session()\n",
    "\n",
    "sess.run(init) # Very important\n",
    "\n",
    "for step in range(201):\n",
    "    sess.run(train)\n",
    "    if step % 20 == 0:\n",
    "        print(step, sess.run(Weights), sess.run(biases))\n",
    "\n",
    "        "
   ]
  }
 ],
 "metadata": {
  "kernelspec": {
   "display_name": "Python 3",
   "language": "python",
   "name": "python3"
  },
  "language_info": {
   "codemirror_mode": {
    "name": "ipython",
    "version": 3
   },
   "file_extension": ".py",
   "mimetype": "text/x-python",
   "name": "python",
   "nbconvert_exporter": "python",
   "pygments_lexer": "ipython3",
   "version": "3.5.0"
  }
 },
 "nbformat": 4,
 "nbformat_minor": 5
}
