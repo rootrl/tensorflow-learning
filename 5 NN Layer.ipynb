{
 "cells": [
  {
   "cell_type": "code",
   "execution_count": 24,
   "id": "60b55f35",
   "metadata": {},
   "outputs": [
    {
     "name": "stdout",
     "output_type": "stream",
     "text": [
      "WARNING:tensorflow:From D:\\anaconda\\envs\\cement-project\\lib\\site-packages\\tensorflow\\python\\util\\tf_should_use.py:170: initialize_all_variables (from tensorflow.python.ops.variables) is deprecated and will be removed after 2017-03-02.\n",
      "Instructions for updating:\n",
      "Use `tf.global_variables_initializer` instead.\n"
     ]
    },
    {
     "data": {
      "image/png": "[encoded data removed]",
      "text/plain": [
       "<matplotlib.figure.Figure at 0x1ebfbfbf710>"
      ]
     },
     "metadata": {},
     "output_type": "display_data"
    }
   ],
   "source": [
    "import tensorflow as tf\n",
    "import numpy as np\n",
    "import matplotlib.pyplot as plt\n",
    "\n",
    "\n",
    "# Can not run dynamic pic in notebook, run 5layer.py instead.\n",
    "\n",
    "# 添加神经网络层\n",
    "def add_layer(inputs, in_size, out_size, activation_function=None):\n",
    "    # 权重\n",
    "    Weights = tf.Variable(tf.random_normal([in_size, out_size]))\n",
    "    \n",
    "    # 类似列表 推荐初始值不为零 每一层有变化\n",
    "    biases = tf.Variable(tf.zeros([1, out_size]) + 0.1)\n",
    "    Wx_plus_b = tf.matmul(inputs, Weights) + biases\n",
    "    \n",
    "    # 线性关系\n",
    "    if activation_function is None:\n",
    "        outputs = Wx_plus_b\n",
    "    # 激励函数\n",
    "    else:\n",
    "        outputs = activation_function(Wx_plus_b)\n",
    "    \n",
    "    return outputs\n",
    "    \n",
    "\n",
    "    \n",
    "# 准备数据\n",
    "x_data = np.linspace(-1, 1, 300)[:, np.newaxis]    \n",
    "noise = np.random.normal(0, 0.05, x_data.shape)\n",
    "y_data = np.square(x_data) - 0.5 + noise\n",
    "\n",
    "\n",
    "\n",
    "# None =》无论多少都OK\n",
    "xs = tf.placeholder(tf.float32, [None, 1])\n",
    "ys = tf.placeholder(tf.float32, [None, 1])\n",
    "\n",
    "# 层  输入层 隐藏层 输出层\n",
    "\n",
    "# out_size 为10\n",
    "l1 = add_layer(xs, 1, 10, activation_function=tf.nn.relu)\n",
    "\n",
    "predition = add_layer(l1, 10, 1, activation_function=None)\n",
    "\n",
    "# predition 和 y_data的差别\n",
    "loss = tf.reduce_mean(tf.reduce_sum(tf.square(ys - predition), reduction_indices=[1]))\n",
    "\n",
    "# 训练   参数 学习效率 小于1\n",
    "train_step = tf.train.GradientDescentOptimizer(0.1).minimize(loss)\n",
    "\n",
    "init = tf.initialize_all_variables()\n",
    "\n",
    "with tf.Session() as sess:\n",
    "    sess.run(init)\n",
    "    fig = plt.figure()\n",
    "    ax = fig.add_subplot(1, 1, 1)\n",
    "    ax.scatter(x_data, y_data)\n",
    "    plt.ion()\n",
    "    plt.show()\n",
    "    for i in range(1000):\n",
    "        sess.run(train_step, feed_dict={xs: x_data, ys: y_data})\n",
    "        if i % 50  == 0:\n",
    "            try :\n",
    "                ax.lines.remove(lines[0])\n",
    "            except Exception:\n",
    "                pass\n",
    "            # print(sess.run(loss, feed_dict={xs:x_data, ys: y_data}))\n",
    "            predition_value = sess.run(predition, feed_dict={xs:x_data})\n",
    "            lines = ax.plot(x_data, predition_value, \"r-\", lw=5)\n",
    "            plt.pause(0.1)    \n",
    "    \n"
   ]
  }
 ],
 "metadata": {
  "kernelspec": {
   "display_name": "Python 3",
   "language": "python",
   "name": "python3"
  },
  "language_info": {
   "codemirror_mode": {
    "name": "ipython",
    "version": 3
   },
   "file_extension": ".py",
   "mimetype": "text/x-python",
   "name": "python",
   "nbconvert_exporter": "python",
   "pygments_lexer": "ipython3",
   "version": "3.5.0"
  }
 },
 "nbformat": 4,
 "nbformat_minor": 5
}
